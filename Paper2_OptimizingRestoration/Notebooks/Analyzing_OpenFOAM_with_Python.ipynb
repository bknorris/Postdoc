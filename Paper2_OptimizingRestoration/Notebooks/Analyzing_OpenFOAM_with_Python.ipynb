{
 "cells": [
  {
   "cell_type": "markdown",
   "id": "e0eae853",
   "metadata": {},
   "source": [
    "# Analyzing OpenFOAM Data in Python"
   ]
  },
  {
   "cell_type": "markdown",
   "id": "2d8b597e",
   "metadata": {},
   "source": [
    "## Saving model data as binary files"
   ]
  },
  {
   "cell_type": "markdown",
   "id": "036b8fb3",
   "metadata": {},
   "source": [
    "The MATLAB scripts that I've written for loading the OpenFOAM output text files and saving out as binary .mat files...\n",
    "* Paper1_saveModelFreeSurf_MATfiles.m\n",
    "* Paper1_saveModelFields_MATfiles.m\n",
    "\n",
    "basically loops through the model folder and iteratively loads the postProcessing text files, and then outputs the data into a data structure. "
   ]
  },
  {
   "cell_type": "markdown",
   "id": "a18db6f2",
   "metadata": {},
   "source": [
    "To do this same process in Python, my workflow must change slightly. Now, because the model files are so large for Paper2, I have to store them as ZIP files on an external hard drive. Hence, the overall workflow for my new Python script should be something like this:\n",
    "\n",
    "0. Resample the T_w = 5 and 10 s models using Bash:\n",
    "    * Zip model files on DISCO2 in sequence and save to NORRIS10TB\n",
    "    * Consolidate model files on NORRIS10TB and NORRIS12TB so each directory is identical\n",
    "    * Copy zipped files to TROPICS for backup\n",
    "    * Bash script to unpack each file from external drive, run OpenFOAM postProcessing routine on modeling PC, then rezip file and move to new folder on external drive\n",
    "    * Once reprocessing step is complete, delete \"old\" version of model files (will still be backed up on TROPICS). \n",
    "1. In Python, use os module to copy ZIP file from external drive and unpack on modeling PC\n",
    "2. In the postProcessing folder, read each text file into a numpy array. Then create a dictionary from each file.\n",
    "3. Save the dictionary to disk using the **pickle** module to write to binary. \n",
    "    "
   ]
  },
  {
   "cell_type": "code",
   "execution_count": null,
   "id": "e7a1e20c",
   "metadata": {},
   "outputs": [],
   "source": []
  }
 ],
 "metadata": {
  "kernelspec": {
   "display_name": "Python 3 (ipykernel)",
   "language": "python",
   "name": "python3"
  },
  "language_info": {
   "codemirror_mode": {
    "name": "ipython",
    "version": 3
   },
   "file_extension": ".py",
   "mimetype": "text/x-python",
   "name": "python",
   "nbconvert_exporter": "python",
   "pygments_lexer": "ipython3",
   "version": "3.8.10"
  }
 },
 "nbformat": 4,
 "nbformat_minor": 5
}
